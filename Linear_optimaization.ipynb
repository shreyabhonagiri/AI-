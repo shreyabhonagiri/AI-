{
  "nbformat": 4,
  "nbformat_minor": 0,
  "metadata": {
    "colab": {
      "name": "Linear optimaization.ipynb",
      "provenance": [],
      "authorship_tag": "ABX9TyNynE1yp3Iv9LPLgB8xFZqy",
      "include_colab_link": true
    },
    "kernelspec": {
      "name": "python3",
      "display_name": "Python 3"
    },
    "language_info": {
      "name": "python"
    }
  },
  "cells": [
    {
      "cell_type": "markdown",
      "metadata": {
        "id": "view-in-github",
        "colab_type": "text"
      },
      "source": [
        "<a href=\"https://colab.research.google.com/github/shreyabhonagiri/AI-/blob/main/Linear_optimaization.ipynb\" target=\"_parent\"><img src=\"https://colab.research.google.com/assets/colab-badge.svg\" alt=\"Open In Colab\"/></a>"
      ]
    },
    {
      "cell_type": "code",
      "execution_count": 1,
      "metadata": {
        "colab": {
          "base_uri": "https://localhost:8080/"
        },
        "id": "flhOSFCdAOvA",
        "outputId": "b72afe91-d57a-4b65-f7ad-de87c8a313c7"
      },
      "outputs": [
        {
          "output_type": "stream",
          "name": "stdout",
          "text": [
            "Area under which Wheat should be grown= 98\n",
            "Area under which Barley should be grown= 7\n"
          ]
        }
      ],
      "source": [
        "from scipy.optimize import linprog\n",
        "obj=[-50,-120]\n",
        "A_ieq=[[7000,2000],[10,30]]\n",
        "B_ieq=[700000,1200]\n",
        "boundary=[(0,float('inf')),(0,float('inf'))]\n",
        "opt=linprog(c=obj,A_ub=A_ieq,b_ub=B_ieq,A_eq=None,bounds=boundary,method=\"simplex\")\n",
        "print('Area under which Wheat should be grown=',round(opt.x[0]))\n",
        "print('Area under which Barley should be grown=',round(opt.x[1]))"
      ]
    }
  ]
}